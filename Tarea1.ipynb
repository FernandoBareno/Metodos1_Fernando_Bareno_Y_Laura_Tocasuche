{
  "cells": [
    {
      "cell_type": "markdown",
      "metadata": {
        "colab_type": "text",
        "id": "view-in-github"
      },
      "source": [
        "<a href=\"https://colab.research.google.com/github/ltocasuche/Metodos1_FernandoyVanessa/blob/main/Tarea1.ipynb\" target=\"_parent\"><img src=\"https://colab.research.google.com/assets/colab-badge.svg\" alt=\"Open In Colab\"/></a>"
      ]
    },
    {
      "cell_type": "code",
      "execution_count": null,
      "metadata": {
        "id": "szJUtxWhigKT"
      },
      "outputs": [],
      "source": [
        "#Diferenciación"
      ]
    },
    {
      "cell_type": "markdown",
      "metadata": {},
      "source": [
        "Ejercicio 2.0.2 Máximos"
      ]
    },
    {
      "cell_type": "code",
      "execution_count": 14,
      "metadata": {},
      "outputs": [
        {
          "name": "stdout",
          "output_type": "stream",
          "text": [
            "Collecting numpyNote: you may need to restart the kernel to use updated packages.\n"
          ]
        },
        {
          "name": "stderr",
          "output_type": "stream",
          "text": [
            "  WARNING: The scripts f2py.exe and numpy-config.exe are installed in 'c:\\Users\\juanf\\AppData\\Local\\Programs\\Python\\Python312\\Scripts' which is not on PATH.\n",
            "  Consider adding this directory to PATH or, if you prefer to suppress this warning, use --no-warn-script-location.\n",
            "\n",
            "[notice] A new release of pip is available: 23.2.1 -> 24.2\n",
            "[notice] To update, run: python.exe -m pip install --upgrade pip\n"
          ]
        },
        {
          "name": "stdout",
          "output_type": "stream",
          "text": [
            "\n",
            "  Obtaining dependency information for numpy from https://files.pythonhosted.org/packages/8c/bf/d9d214a9dff020ad1663f1536f45d34e052e4c7f630c46cd363e785e3231/numpy-2.1.0-cp312-cp312-win_amd64.whl.metadata\n",
            "  Downloading numpy-2.1.0-cp312-cp312-win_amd64.whl.metadata (59 kB)\n",
            "     ---------------------------------------- 0.0/59.7 kB ? eta -:--:--\n",
            "     ------ --------------------------------- 10.2/59.7 kB ? eta -:--:--\n",
            "     ------------- ------------------------ 20.5/59.7 kB 165.2 kB/s eta 0:00:01\n",
            "     ------------------- ------------------ 30.7/59.7 kB 217.9 kB/s eta 0:00:01\n",
            "     -------------------------------- ----- 51.2/59.7 kB 292.6 kB/s eta 0:00:01\n",
            "     -------------------------------------- 59.7/59.7 kB 287.8 kB/s eta 0:00:00\n",
            "Downloading numpy-2.1.0-cp312-cp312-win_amd64.whl (12.6 MB)\n",
            "   ---------------------------------------- 0.0/12.6 MB ? eta -:--:--\n",
            "   ---------------------------------------- 0.1/12.6 MB 1.7 MB/s eta 0:00:08\n",
            "    --------------------------------------- 0.2/12.6 MB 2.1 MB/s eta 0:00:06\n",
            "    --------------------------------------- 0.3/12.6 MB 2.3 MB/s eta 0:00:06\n",
            "   - -------------------------------------- 0.5/12.6 MB 3.1 MB/s eta 0:00:04\n",
            "   -- ------------------------------------- 0.9/12.6 MB 3.9 MB/s eta 0:00:03\n",
            "   ---- ----------------------------------- 1.4/12.6 MB 5.6 MB/s eta 0:00:03\n",
            "   ------ --------------------------------- 2.0/12.6 MB 6.8 MB/s eta 0:00:02\n",
            "   --------- ------------------------------ 2.9/12.6 MB 8.3 MB/s eta 0:00:02\n",
            "   ------------ --------------------------- 3.9/12.6 MB 10.3 MB/s eta 0:00:01\n",
            "   --------------- ------------------------ 4.9/12.6 MB 11.7 MB/s eta 0:00:01\n",
            "   ------------------- -------------------- 6.0/12.6 MB 12.7 MB/s eta 0:00:01\n",
            "   ---------------------- ----------------- 6.9/12.6 MB 13.8 MB/s eta 0:00:01\n",
            "   ------------------------ --------------- 7.6/12.6 MB 13.9 MB/s eta 0:00:01\n",
            "   -------------------------- ------------- 8.5/12.6 MB 14.6 MB/s eta 0:00:01\n",
            "   ----------------------------- ---------- 9.4/12.6 MB 15.0 MB/s eta 0:00:01\n",
            "   --------------------------------- ------ 10.4/12.6 MB 18.2 MB/s eta 0:00:01\n",
            "   ------------------------------------ --- 11.4/12.6 MB 22.6 MB/s eta 0:00:01\n",
            "   -------------------------------------- - 12.2/12.6 MB 22.6 MB/s eta 0:00:01\n",
            "   ---------------------------------------  12.6/12.6 MB 22.6 MB/s eta 0:00:01\n",
            "   ---------------------------------------- 12.6/12.6 MB 20.4 MB/s eta 0:00:00\n",
            "Installing collected packages: numpy\n",
            "Successfully installed numpy-2.1.0\n"
          ]
        }
      ],
      "source": [
        "pip install numpy"
      ]
    },
    {
      "cell_type": "code",
      "execution_count": 18,
      "metadata": {},
      "outputs": [
        {
          "name": "stdout",
          "output_type": "stream",
          "text": [
            "Collecting matplotlib\n",
            "  Obtaining dependency information for matplotlib from https://files.pythonhosted.org/packages/d2/92/c2b9464a0562feb6ae780bdc152364810862e07ef5e6affa2b7686028db2/matplotlib-3.9.2-cp312-cp312-win_amd64.whl.metadata\n",
            "  Downloading matplotlib-3.9.2-cp312-cp312-win_amd64.whl.metadata (11 kB)\n",
            "Collecting contourpy>=1.0.1 (from matplotlib)\n",
            "  Obtaining dependency information for contourpy>=1.0.1 from https://files.pythonhosted.org/packages/78/38/a046bb0ebce6f530175d434e7364149e338ffe1069ee286ed8ba7f6481ee/contourpy-1.2.1-cp312-cp312-win_amd64.whl.metadata\n",
            "  Downloading contourpy-1.2.1-cp312-cp312-win_amd64.whl.metadata (5.8 kB)\n",
            "Collecting cycler>=0.10 (from matplotlib)\n",
            "  Obtaining dependency information for cycler>=0.10 from https://files.pythonhosted.org/packages/e7/05/c19819d5e3d95294a6f5947fb9b9629efb316b96de511b418c53d245aae6/cycler-0.12.1-py3-none-any.whl.metadata\n",
            "  Downloading cycler-0.12.1-py3-none-any.whl.metadata (3.8 kB)\n",
            "Collecting fonttools>=4.22.0 (from matplotlib)\n",
            "  Obtaining dependency information for fonttools>=4.22.0 from https://files.pythonhosted.org/packages/6d/9a/b695930e1b4e6929cc60e294489421632a05c105ac8c56ee63ef56a47872/fonttools-4.53.1-cp312-cp312-win_amd64.whl.metadata\n",
            "  Downloading fonttools-4.53.1-cp312-cp312-win_amd64.whl.metadata (165 kB)\n",
            "     ---------------------------------------- 0.0/165.9 kB ? eta -:--:--\n",
            "     -- ------------------------------------- 10.2/165.9 kB ? eta -:--:--\n",
            "     -- ------------------------------------- 10.2/165.9 kB ? eta -:--:--\n",
            "     -- ------------------------------------- 10.2/165.9 kB ? eta -:--:--\n",
            "     ------------- ----------------------- 61.4/165.9 kB 409.6 kB/s eta 0:00:01\n",
            "     ------------- ----------------------- 61.4/165.9 kB 409.6 kB/s eta 0:00:01\n",
            "     ------------------------------------ 165.9/165.9 kB 622.7 kB/s eta 0:00:00\n",
            "Collecting kiwisolver>=1.3.1 (from matplotlib)\n",
            "  Obtaining dependency information for kiwisolver>=1.3.1 from https://files.pythonhosted.org/packages/63/50/2746566bdf4a6a842d117367d05c90cfb87ac04e9e2845aa1fa21f071362/kiwisolver-1.4.5-cp312-cp312-win_amd64.whl.metadata\n",
            "  Downloading kiwisolver-1.4.5-cp312-cp312-win_amd64.whl.metadata (6.5 kB)\n",
            "Requirement already satisfied: numpy>=1.23 in c:\\users\\juanf\\appdata\\local\\programs\\python\\python312\\lib\\site-packages (from matplotlib) (2.1.0)\n",
            "Requirement already satisfied: packaging>=20.0 in c:\\users\\juanf\\appdata\\roaming\\python\\python312\\site-packages (from matplotlib) (24.1)\n",
            "Collecting pillow>=8 (from matplotlib)\n",
            "  Obtaining dependency information for pillow>=8 from https://files.pythonhosted.org/packages/74/0a/d4ce3c44bca8635bd29a2eab5aa181b654a734a29b263ca8efe013beea98/pillow-10.4.0-cp312-cp312-win_amd64.whl.metadata\n",
            "  Downloading pillow-10.4.0-cp312-cp312-win_amd64.whl.metadata (9.3 kB)\n",
            "Collecting pyparsing>=2.3.1 (from matplotlib)\n",
            "  Obtaining dependency information for pyparsing>=2.3.1 from https://files.pythonhosted.org/packages/9d/ea/6d76df31432a0e6fdf81681a895f009a4bb47b3c39036db3e1b528191d52/pyparsing-3.1.2-py3-none-any.whl.metadata\n",
            "  Downloading pyparsing-3.1.2-py3-none-any.whl.metadata (5.1 kB)\n",
            "Requirement already satisfied: python-dateutil>=2.7 in c:\\users\\juanf\\appdata\\roaming\\python\\python312\\site-packages (from matplotlib) (2.9.0.post0)\n",
            "Requirement already satisfied: six>=1.5 in c:\\users\\juanf\\appdata\\roaming\\python\\python312\\site-packages (from python-dateutil>=2.7->matplotlib) (1.16.0)\n",
            "Downloading matplotlib-3.9.2-cp312-cp312-win_amd64.whl (7.8 MB)\n",
            "   ---------------------------------------- 0.0/7.8 MB ? eta -:--:--\n",
            "    --------------------------------------- 0.2/7.8 MB 10.2 MB/s eta 0:00:01\n",
            "   - -------------------------------------- 0.3/7.8 MB 4.9 MB/s eta 0:00:02\n",
            "   -- ------------------------------------- 0.5/7.8 MB 4.3 MB/s eta 0:00:02\n",
            "   ---- ----------------------------------- 1.0/7.8 MB 6.7 MB/s eta 0:00:02\n",
            "   ---------- ----------------------------- 2.0/7.8 MB 9.7 MB/s eta 0:00:01\n",
            "   ----------- ---------------------------- 2.2/7.8 MB 8.8 MB/s eta 0:00:01\n",
            "   ---------------- ----------------------- 3.2/7.8 MB 10.6 MB/s eta 0:00:01\n",
            "   ------------------ --------------------- 3.5/7.8 MB 10.7 MB/s eta 0:00:01\n",
            "   ---------------------- ----------------- 4.5/7.8 MB 11.9 MB/s eta 0:00:01\n",
            "   -------------------------- ------------- 5.3/7.8 MB 12.5 MB/s eta 0:00:01\n",
            "   ------------------------------- -------- 6.2/7.8 MB 13.7 MB/s eta 0:00:01\n",
            "   ------------------------------------ --- 7.2/7.8 MB 13.9 MB/s eta 0:00:01\n",
            "   ---------------------------------------  7.8/7.8 MB 14.7 MB/s eta 0:00:01\n",
            "   ---------------------------------------- 7.8/7.8 MB 13.9 MB/s eta 0:00:00\n",
            "Downloading contourpy-1.2.1-cp312-cp312-win_amd64.whl (189 kB)\n",
            "   ---------------------------------------- 0.0/189.9 kB ? eta -:--:--\n",
            "   --------------------------------------- 189.9/189.9 kB 12.0 MB/s eta 0:00:00\n",
            "Downloading cycler-0.12.1-py3-none-any.whl (8.3 kB)\n",
            "Downloading fonttools-4.53.1-cp312-cp312-win_amd64.whl (2.2 MB)\n",
            "   ---------------------------------------- 0.0/2.2 MB ? eta -:--:--\n",
            "   --------------------------- ------------ 1.5/2.2 MB 31.6 MB/s eta 0:00:01\n",
            "   -------------------------------------- - 2.1/2.2 MB 22.1 MB/s eta 0:00:01\n",
            "   ---------------------------------------- 2.2/2.2 MB 17.5 MB/s eta 0:00:00\n",
            "Downloading kiwisolver-1.4.5-cp312-cp312-win_amd64.whl (56 kB)\n",
            "   ---------------------------------------- 0.0/56.0 kB ? eta -:--:--\n",
            "   ---------------------------------------- 56.0/56.0 kB ? eta 0:00:00\n",
            "Downloading pillow-10.4.0-cp312-cp312-win_amd64.whl (2.6 MB)\n",
            "   ---------------------------------------- 0.0/2.6 MB ? eta -:--:--\n",
            "   ---------------- ----------------------- 1.0/2.6 MB 33.4 MB/s eta 0:00:01\n",
            "   ------------------------------- -------- 2.0/2.6 MB 25.3 MB/s eta 0:00:01\n",
            "   ---------------------------------------  2.5/2.6 MB 23.3 MB/s eta 0:00:01\n",
            "   ---------------------------------------- 2.6/2.6 MB 18.0 MB/s eta 0:00:00\n",
            "Downloading pyparsing-3.1.2-py3-none-any.whl (103 kB)\n",
            "   ---------------------------------------- 0.0/103.2 kB ? eta -:--:--\n",
            "   ---------------------------------------- 103.2/103.2 kB 5.8 MB/s eta 0:00:00\n",
            "Installing collected packages: pyparsing, pillow, kiwisolver, fonttools, cycler, contourpy, matplotlib\n",
            "Successfully installed contourpy-1.2.1 cycler-0.12.1 fonttools-4.53.1 kiwisolver-1.4.5 matplotlib-3.9.2 pillow-10.4.0 pyparsing-3.1.2\n",
            "Note: you may need to restart the kernel to use updated packages.\n"
          ]
        },
        {
          "name": "stderr",
          "output_type": "stream",
          "text": [
            "  WARNING: The scripts fonttools.exe, pyftmerge.exe, pyftsubset.exe and ttx.exe are installed in 'c:\\Users\\juanf\\AppData\\Local\\Programs\\Python\\Python312\\Scripts' which is not on PATH.\n",
            "  Consider adding this directory to PATH or, if you prefer to suppress this warning, use --no-warn-script-location.\n",
            "\n",
            "[notice] A new release of pip is available: 23.2.1 -> 24.2\n",
            "[notice] To update, run: python.exe -m pip install --upgrade pip\n"
          ]
        }
      ],
      "source": [
        "pip install matplotlib"
      ]
    },
    {
      "cell_type": "code",
      "execution_count": 19,
      "metadata": {},
      "outputs": [],
      "source": [
        "import numpy as pb\n",
        "import matplotlib.pyplot as plt"
      ]
    },
    {
      "cell_type": "code",
      "execution_count": 6,
      "metadata": {},
      "outputs": [],
      "source": [
        "date_file = open(\"EstrellaEspectro.txt\", \"r\")\n",
        "date_list = date_file.readlines()"
      ]
    },
    {
      "cell_type": "code",
      "execution_count": 7,
      "metadata": {},
      "outputs": [
        {
          "name": "stdout",
          "output_type": "stream",
          "text": [
            "['3.33999991416932  1.00745\\n', '3.34383829799481  1.01934\\n', '3.34767668182031  1.036267\\n', '3.3515150656458  1.017304\\n', '3.3553534494713  1.004918\\n', '3.3591918332968  1.03554\\n', '3.36303021712229  1.025355\\n', '3.36686860094779  1.01459\\n', '3.37070698477328  1.024369\\n', '3.37454536859878  0.9933972\\n', '3.37838375242427  1.000192\\n', '3.38222213624977  1.045406\\n', '3.38606052007527  1.020369\\n', '3.38989890390076  0.9900815\\n', '3.39373728772626  1.012803\\n', '3.39757567155175  0.9990528\\n', '3.40141405537725  1.005919\\n', '3.40525243920275  1.030349\\n', '3.40909082302824  0.9977326\\n', '3.41292920685374  0.9900364\\n', '3.41676759067923  1.015571\\n', '3.42060597450473  0.9998463\\n', '3.42444435833022  0.9990111\\n', '3.42828274215572  1.035833\\n', '3.43212112598122  1.028995\\n', '3.43595950980671  1.007022\\n', '3.43979789363221  1.017348\\n', '3.4436362774577  1.005415\\n', '3.4474746612832  0.9981713\\n', '3.4513130451087  1.02287\\n', '3.45515142893419  1.012846\\n', '3.45898981275969  0.9929096\\n', '3.46282819658518  1.001849\\n', '3.46666658041068  1.013802\\n', '3.47050496423618  1.008953\\n', '3.47434334806167  0.9903569\\n', '3.47818173188717  0.9661365\\n', '3.48202011571266  0.9348084\\n', '3.48585849953816  0.9390462\\n', '3.48969688336365  0.9808012\\n', '3.49353526718915  0.9909021\\n', '3.49737365101465  0.9940714\\n', '3.50121203484014  1.014246\\n', '3.50505041866564  1.020233\\n', '3.50888880249113  1.002623\\n', '3.51272718631663  0.9949392\\n', '3.51656557014212  1.003239\\n', '3.52040395396762  1.016591\\n', '3.52424233779312  1.034254\\n', '3.52808072161861  1.019685\\n', '3.53191910544411  1.01148\\n', '3.5357574892696  1.02666\\n', '3.5395958730951  1.022359\\n', '3.5434342569206  1.002157\\n', '3.54727264074609  1.000995\\n', '3.55111102457159  1.014296\\n', '3.55494940839708  1.003491\\n', '3.55878779222258  1.015367\\n', '3.56262617604807  1.024395\\n', '3.56646455987357  0.9999497\\n', '3.57030294369907  0.9826334\\n', '3.57414132752456  0.9887425\\n', '3.57797971135006  1.01153\\n', '3.58181809517555  1.026873\\n', '3.58565647900105  1.037869\\n', '3.58949486282655  1.040716\\n', '3.59333324665204  1.024388\\n', '3.59717163047754  0.9909052\\n', '3.60101001430303  0.9712995\\n', '3.60484839812853  0.9762809\\n', '3.60868678195403  0.9860619\\n', '3.61252516577952  0.997323\\n', '3.61636354960502  1.014175\\n', '3.62020193343051  1.027063\\n', '3.62404031725601  1.022454\\n', '3.6278787010815  1.02262\\n', '3.631717084907  1.039316\\n', '3.6355554687325  1.037949\\n', '3.63939385255799  1.041238\\n', '3.64323223638349  1.060527\\n', '3.64707062020898  1.05843\\n', '3.65090900403448  1.030091\\n', '3.65474738785998  0.9946704\\n', '3.65858577168547  0.993714\\n', '3.66242415551097  1.008135\\n', '3.66626253933646  1.009413\\n', '3.67010092316196  1.04456\\n', '3.67393930698745  1.051431\\n', '3.67777769081295  1.021838\\n', '3.68161607463845  1.020469\\n', '3.68545445846394  1.011957\\n', '3.68929284228944  0.9998714\\n', '3.69313122611493  1.007554\\n', '3.69696960994043  1.027467\\n', '3.70080799376593  1.073974\\n', '3.70464637759142  1.089617\\n', '3.70848476141692  1.063349\\n', '3.71232314524241  1.050621\\n', '3.71616152906791  1.131707\\n', '3.7199999128934  1.265055\\n', '3.7238382967189  1.330906\\n', '3.7276766805444  1.292157\\n', '3.73151506436989  1.185331\\n', '3.73535344819539  1.100185\\n', '3.73919183202088  1.031948\\n', '3.74303021584638  1.029718\\n', '3.74686859967188  1.032746\\n', '3.75070698349737  1.014638\\n', '3.75454536732287  0.9920562\\n', '3.75838375114836  0.9898767\\n', '3.76222213497386  0.9745881\\n', '3.76606051879936  0.9519024\\n', '3.76989890262485  0.9581258\\n', '3.77373728645035  0.9904009\\n', '3.77757567027584  1.031765\\n', '3.78141405410134  1.020715\\n', '3.78525243792683  1.025134\\n', '3.78909082175233  1.068328\\n', '3.79292920557783  1.06593\\n', '3.79676758940332  1.025116\\n', '3.80060597322882  1.044219\\n', '3.80444435705431  1.102898\\n', '3.80828274087981  1.100854\\n', '3.81212112470531  1.046926\\n', '3.8159595085308  1.030022\\n', '3.8197978923563  1.040657\\n', '3.82363627618179  1.064289\\n', '3.82747466000729  1.061595\\n', '3.83131304383278  1.039822\\n', '3.83515142765828  1.021725\\n', '3.83898981148378  1.014149\\n', '3.84282819530927  1.012942\\n', '3.84666657913477  0.9960786\\n', '3.85050496296026  1.0171\\n', '3.85434334678576  1.040364\\n', '3.85818173061126  1.007777\\n', '3.86202011443675  0.9942657\\n', '3.86585849826225  1.044742\\n', '3.86969688208774  1.079907\\n', '3.87353526591324  1.03425\\n', '3.87737364973873  0.9789153\\n', '3.88121203356423  0.9751886\\n', '3.88505041738973  1.000827\\n', '3.88888880121522  1.000317\\n', '3.89272718504072  0.9981111\\n', '3.89656556886621  1.052629\\n', '3.90040395269171  1.089922\\n', '3.90424233651721  1.052088\\n', '3.9080807203427  1.016782\\n', '3.9119191041682  0.9986883\\n', '3.91575748799369  0.9949327\\n', '3.91959587181919  1.01011\\n', '3.92343425564468  1.028286\\n', '3.92727263947018  1.030706\\n', '3.93111102329568  1.019874\\n', '3.93494940712117  1.025699\\n', '3.93878779094667  1.012735\\n', '3.94262617477216  0.9648931\\n', '3.94646455859766  0.9691544\\n', '3.95030294242316  0.9971942\\n', '3.95414132624865  0.9776724\\n', '3.95797971007415  0.9710475\\n', '3.96181809389964  0.9887193\\n', '3.96565647772514  0.9922253\\n', '3.96949486155063  0.9934807\\n', '3.97333324537613  1.008569\\n', '3.97717162920163  0.9966778\\n', '3.98101001302712  0.9688108\\n', '3.98484839685262  0.9734649\\n', '3.98868678067811  0.9919649\\n', '3.99252516450361  1.021694\\n', '3.99636354832911  1.041762\\n', '4.0002019321546  1.027368\\n', '4.0040403159801  1.02235\\n', '4.00787869980559  1.028908\\n', '4.01171708363109  1.025404\\n', '4.01555546745658  1.026278\\n', '4.01939385128208  1.029255\\n', '4.02323223510758  1.023356\\n', '4.02707061893307  1.03355\\n', '4.03090900275857  1.085186\\n', '4.03474738658406  1.124212\\n', '4.03858577040956  1.147828\\n', '4.04242415423506  1.129273\\n', '4.04626253806055  1.00242\\n', '4.05010092188605  0.9142942\\n', '4.05393930571154  0.9690735\\n', '4.05777768953704  1.019188\\n', '4.06161607336254  1.103838\\n', '4.06545445718803  1.386635\\n', '4.06929284101353  1.657519\\n', '4.07313122483902  1.653857\\n', '4.07696960866452  1.492341\\n', '4.08080799249002  1.337742\\n', '4.08464637631551  1.169107\\n', '4.08848476014101  1.021024\\n', '4.0923231439665  0.9648333\\n', '4.096161527792  1.009015\\n']\n"
          ]
        }
      ],
      "source": [
        "print(date_list)"
      ]
    },
    {
      "cell_type": "code",
      "execution_count": 58,
      "metadata": {},
      "outputs": [
        {
          "name": "stdout",
          "output_type": "stream",
          "text": [
            "[3.33999991416932, 3.34383829799481, 3.34767668182031, 3.3515150656458, 3.3553534494713, 3.3591918332968, 3.36303021712229, 3.36686860094779, 3.37070698477328, 3.37454536859878, 3.37838375242427, 3.38222213624977, 3.38606052007527, 3.38989890390076, 3.39373728772626, 3.39757567155175, 3.40141405537725, 3.40525243920275, 3.40909082302824, 3.41292920685374, 3.41676759067923, 3.42060597450473, 3.42444435833022, 3.42828274215572, 3.43212112598122, 3.43595950980671, 3.43979789363221, 3.4436362774577, 3.4474746612832, 3.4513130451087, 3.45515142893419, 3.45898981275969, 3.46282819658518, 3.46666658041068, 3.47050496423618, 3.47434334806167, 3.47818173188717, 3.48202011571266, 3.48585849953816, 3.48969688336365, 3.49353526718915, 3.49737365101465, 3.50121203484014, 3.50505041866564, 3.50888880249113, 3.51272718631663, 3.51656557014212, 3.52040395396762, 3.52424233779312, 3.52808072161861, 3.53191910544411, 3.5357574892696, 3.5395958730951, 3.5434342569206, 3.54727264074609, 3.55111102457159, 3.55494940839708, 3.55878779222258, 3.56262617604807, 3.56646455987357, 3.57030294369907, 3.57414132752456, 3.57797971135006, 3.58181809517555, 3.58565647900105, 3.58949486282655, 3.59333324665204, 3.59717163047754, 3.60101001430303, 3.60484839812853, 3.60868678195403, 3.61252516577952, 3.61636354960502, 3.62020193343051, 3.62404031725601, 3.6278787010815, 3.631717084907, 3.6355554687325, 3.63939385255799, 3.64323223638349, 3.64707062020898, 3.65090900403448, 3.65474738785998, 3.65858577168547, 3.66242415551097, 3.66626253933646, 3.67010092316196, 3.67393930698745, 3.67777769081295, 3.68161607463845, 3.68545445846394, 3.68929284228944, 3.69313122611493, 3.69696960994043, 3.70080799376593, 3.70464637759142, 3.70848476141692, 3.71232314524241, 3.71616152906791, 3.7199999128934, 3.7238382967189, 3.7276766805444, 3.73151506436989, 3.73535344819539, 3.73919183202088, 3.74303021584638, 3.74686859967188, 3.75070698349737, 3.75454536732287, 3.75838375114836, 3.76222213497386, 3.76606051879936, 3.76989890262485, 3.77373728645035, 3.77757567027584, 3.78141405410134, 3.78525243792683, 3.78909082175233, 3.79292920557783, 3.79676758940332, 3.80060597322882, 3.80444435705431, 3.80828274087981, 3.81212112470531, 3.8159595085308, 3.8197978923563, 3.82363627618179, 3.82747466000729, 3.83131304383278, 3.83515142765828, 3.83898981148378, 3.84282819530927, 3.84666657913477, 3.85050496296026, 3.85434334678576, 3.85818173061126, 3.86202011443675, 3.86585849826225, 3.86969688208774, 3.87353526591324, 3.87737364973873, 3.88121203356423, 3.88505041738973, 3.88888880121522, 3.89272718504072, 3.89656556886621, 3.90040395269171, 3.90424233651721, 3.9080807203427, 3.9119191041682, 3.91575748799369, 3.91959587181919, 3.92343425564468, 3.92727263947018, 3.93111102329568, 3.93494940712117, 3.93878779094667, 3.94262617477216, 3.94646455859766, 3.95030294242316, 3.95414132624865, 3.95797971007415, 3.96181809389964, 3.96565647772514, 3.96949486155063, 3.97333324537613, 3.97717162920163, 3.98101001302712, 3.98484839685262, 3.98868678067811, 3.99252516450361, 3.99636354832911, 4.0002019321546, 4.0040403159801, 4.00787869980559, 4.01171708363109, 4.01555546745658, 4.01939385128208, 4.02323223510758, 4.02707061893307, 4.03090900275857, 4.03474738658406, 4.03858577040956, 4.04242415423506, 4.04626253806055, 4.05010092188605, 4.05393930571154, 4.05777768953704, 4.06161607336254, 4.06545445718803, 4.06929284101353, 4.07313122483902, 4.07696960866452, 4.08080799249002, 4.08464637631551, 4.08848476014101, 4.0923231439665]\n",
            "[3.34767668182031, 3.3591918332968, 3.37070698477328, 3.38222213624977, 3.39373728772626, 3.40525243920275, 3.41676759067923, 3.42828274215572, 3.43979789363221, 3.4513130451087, 3.46666658041068, 3.50505041866564, 3.52424233779312, 3.5357574892696, 3.55111102457159, 3.56262617604807, 3.58949486282655, 3.62020193343051, 3.631717084907, 3.64323223638349, 3.67393930698745, 3.70464637759142, 3.7238382967189, 3.74686859967188, 3.77757567027584, 3.78909082175233, 3.80444435705431, 3.82363627618179, 3.85434334678576, 3.86969688208774, 3.88505041738973, 3.90040395269171, 3.92727263947018, 3.93494940712117, 3.95030294242316, 3.97333324537613, 3.99636354832911, 4.00787869980559, 4.01939385128208, 4.03858577040956, 4.06929284101353]\n"
          ]
        }
      ],
      "source": [
        "X_list = []\n",
        "Y_list = []\n",
        "X_list_max = []\n",
        "Y_list_max = []\n",
        "\n",
        "for i in range(len(date_list)-1):\n",
        "\n",
        "    line = date_list[i]\n",
        "    XY = line.split()\n",
        "    X = float(XY[0])\n",
        "    Y = float(XY[1])\n",
        "\n",
        "    if i != 0:\n",
        "        before_xy = date_list[i-1].split()\n",
        "        before = float(before_xy[1])\n",
        "    else:\n",
        "        before = None\n",
        "\n",
        "    if i != len(date_list)-1:\n",
        "        after_xy = date_list[i+1].split()\n",
        "        after = float(after_xy[1])\n",
        "    else:\n",
        "        after = None\n",
        "\n",
        "    if ((before == None or before<Y) and\n",
        "        (after == None or after<Y)):\n",
        "        X_list_max.append(X)\n",
        "        Y_list_max.append(Y)\n",
        "\n",
        "    X_list.append(X)\n",
        "    Y_list.append(Y)\n",
        "\n",
        "print(X_list)\n",
        "print(X_list_max)\n",
        "\n",
        "    "
      ]
    },
    {
      "cell_type": "code",
      "execution_count": 59,
      "metadata": {},
      "outputs": [
        {
          "data": {
            "text/plain": [
              "[<matplotlib.lines.Line2D at 0x1738e2b0a10>]"
            ]
          },
          "execution_count": 59,
          "metadata": {},
          "output_type": "execute_result"
        },
        {
          "data": {
            "image/png": "[encoded data removed]",
            "text/plain": [
              "<Figure size 640x480 with 1 Axes>"
            ]
          },
          "metadata": {},
          "output_type": "display_data"
        }
      ],
      "source": [
        "plt.plot(X_list, Y_list)\n",
        "plt.plot(X_list_max, Y_list_max, 'o')"
      ]
    }
  ],
  "metadata": {
    "colab": {
      "authorship_tag": "ABX9TyOxmCsDDNK3WfzrFBb8vHyp",
      "include_colab_link": true,
      "provenance": []
    },
    "kernelspec": {
      "display_name": "Python 3",
      "name": "python3"
    },
    "language_info": {
      "codemirror_mode": {
        "name": "ipython",
        "version": 3
      },
      "file_extension": ".py",
      "mimetype": "text/x-python",
      "name": "python",
      "nbconvert_exporter": "python",
      "pygments_lexer": "ipython3",
      "version": "3.12.1"
    }
  },
  "nbformat": 4,
  "nbformat_minor": 0
}
