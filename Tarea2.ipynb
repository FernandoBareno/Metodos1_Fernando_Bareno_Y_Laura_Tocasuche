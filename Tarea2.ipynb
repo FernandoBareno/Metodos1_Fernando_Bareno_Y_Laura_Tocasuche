{
  "nbformat": 4,
  "nbformat_minor": 0,
  "metadata": {
    "colab": {
      "provenance": [],
      "authorship_tag": "ABX9TyN87RJsI7BrcFh4xsdz0zEm",
      "include_colab_link": true
    },
    "kernelspec": {
      "name": "python3",
      "display_name": "Python 3"
    },
    "language_info": {
      "name": "python"
    }
  },
  "cells": [
    {
      "cell_type": "markdown",
      "metadata": {
        "id": "view-in-github",
        "colab_type": "text"
      },
      "source": [
        "<a href=\"https://colab.research.google.com/github/ltocasuche/Metodos1_Fernando_Bareno_Y_Laura_Tocasuche/blob/main/Tarea2.ipynb\" target=\"_parent\"><img src=\"https://colab.research.google.com/assets/colab-badge.svg\" alt=\"Open In Colab\"/></a>"
      ]
    },
    {
      "cell_type": "code",
      "execution_count": 2,
      "metadata": {
        "id": "gUdaVTMT8p_l"
      },
      "outputs": [],
      "source": [
        "import numpy as np\n",
        "import matplotlib.pyplot as plt\n",
        "import sympy as sym"
      ]
    },
    {
      "cell_type": "code",
      "source": [
        "def funcion(x):\n",
        "  return np.sqrt(x)"
      ],
      "metadata": {
        "id": "__p_nV8olsln"
      },
      "execution_count": 3,
      "outputs": []
    },
    {
      "cell_type": "code",
      "source": [
        "x = sym.Symbol(\"x\",real=True)\n",
        "X = np.array([100,121,144])\n",
        "Y = np.array(funcion(X))"
      ],
      "metadata": {
        "id": "dcHeO5PA9oR2"
      },
      "execution_count": 4,
      "outputs": []
    },
    {
      "cell_type": "code",
      "source": [
        "def Lagrange(x,X,i):\n",
        "  L = 1\n",
        "  for j in range(len(X)):\n",
        "    if i != j:\n",
        "      L *= (x - X[j]) / (X[i] - X[j])\n",
        "  return L\n",
        "def Interpolar(x,X,Y):\n",
        "  polinomio = 0\n",
        "  for i in range(len(X)):\n",
        "    polinomio += Y[i]*Lagrange(x,X,i)\n",
        "  return polinomio"
      ],
      "metadata": {
        "id": "ApdVyA25lXtF"
      },
      "execution_count": 5,
      "outputs": []
    },
    {
      "cell_type": "code",
      "source": [
        "#evaluar en 114"
      ],
      "metadata": {
        "id": "w-rSWCujprZA"
      },
      "execution_count": 6,
      "outputs": []
    },
    {
      "cell_type": "code",
      "source": [
        "x = 114\n",
        "polinomio_interpolador = Interpolar(x,X,Y)\n",
        "error = np.abs(funcion(x)-polinomio_interpolador)\n",
        "error"
      ],
      "metadata": {
        "colab": {
          "base_uri": "https://localhost:8080/"
        },
        "id": "kqURL8droPXd",
        "outputId": "849de86a-620c-43d4-ba86-77376e19f94d"
      },
      "execution_count": 7,
      "outputs": [
        {
          "output_type": "execute_result",
          "data": {
            "text/plain": [
              "0.0011889239680691333"
            ]
          },
          "metadata": {},
          "execution_count": 7
        }
      ]
    },
    {
      "cell_type": "code",
      "source": [
        "X_valores = np.array([1.4,3.5,5.6])\n",
        "Y_valores = np.array([0.4007954931819738,0.594128102489774,0.29802795523938164])\n",
        "x_simbolo = sym.Symbol(\"x\",real=True)"
      ],
      "metadata": {
        "id": "cHpn_feuyxSR"
      },
      "execution_count": 8,
      "outputs": []
    },
    {
      "cell_type": "code",
      "source": [
        "def Lagrange(x,X,i):\n",
        "  L = 1\n",
        "  for j in range(len(X_valores)):\n",
        "    if i != j:\n",
        "      L *= (x_simbolo - X_valores[j]) / (X_valores[i] - X_valores[j])\n",
        "  return L\n",
        "def Interpolar(x,X,Y):\n",
        "  polinomio = 0\n",
        "  for i in range(len(X_valores)):\n",
        "    polinomio += Y_valores[i]*Lagrange(x,X,i)\n",
        "  return polinomio"
      ],
      "metadata": {
        "id": "e7xUXet30eGJ"
      },
      "execution_count": 9,
      "outputs": []
    },
    {
      "cell_type": "code",
      "source": [
        "polinomio_interpolador = Interpolar(x_simbolo,X_valores,Y_valores)\n",
        "coeficientes = sym.Poly(polinomio_interpolador, x_simbolo).all_coeffs()\n",
        "coeficientes"
      ],
      "metadata": {
        "colab": {
          "base_uri": "https://localhost:8080/"
        },
        "id": "VQmCGpsziUYR",
        "outputId": "d3c5f2fb-946a-406b-9192-1164873b15b3"
      },
      "execution_count": 16,
      "outputs": [
        {
          "output_type": "execute_result",
          "data": {
            "text/plain": [
              "[-0.0554912422401579, 0.363970234266202, 0.0]"
            ]
          },
          "metadata": {},
          "execution_count": 16
        }
      ]
    },
    {
      "cell_type": "code",
      "source": [
        "a = float(coeficientes[0])\n",
        "b = float(coeficientes[1])\n",
        "c = float(coeficientes[2])\n",
        "g = 9.8\n",
        "\n",
        "theta = np.arctan(b)\n",
        "theta_grados = np.degrees(theta)\n",
        "print(theta_grados)\n",
        "V0 = np.sqrt(-g / (2 * a * np.cos(theta)**2))\n",
        "print(V0)\n"
      ],
      "metadata": {
        "colab": {
          "base_uri": "https://localhost:8080/"
        },
        "id": "yk2_JAukXRru",
        "outputId": "27c1b37d-4860-4407-eb55-81fc80410a66"
      },
      "execution_count": 19,
      "outputs": [
        {
          "output_type": "stream",
          "name": "stdout",
          "text": [
            "19.99999999999999\n",
            "10.000000000000004\n"
          ]
        }
      ]
    }
  ]
}